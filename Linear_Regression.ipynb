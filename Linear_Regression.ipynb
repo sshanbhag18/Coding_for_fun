{
 "cells": [
  {
   "cell_type": "code",
   "execution_count": null,
   "metadata": {},
   "outputs": [],
   "source": [
    "## LINEAR REGRESSION\n",
    "\n",
    "# DETERMINE THE STRENGTH OF PREDICTORS\n",
    "# FORECAST THE FUTURE\n",
    "# TREND\n",
    "\n",
    "# TYPE OF LINEAR REG\n",
    "\n",
    "#I. SIMPLE LINEAR REGRESSION : ONE DEP & ONE IND VAR\n",
    "\n",
    "# y = a+bx\n",
    "\n",
    "# HERE Y : dependent variable\n",
    "# a : intercept : THE VALUE OF Y ON X -AXIS WHEN ALL THE INDEPENDENT VARIABLES ARE ZERO\n",
    "# b : slope/ coefficient : ONE UNIT CHANGE IN INDEPENDENT VARIABLE IS BEING EXPLAINED BY DEPENDENT VARIABLE\n",
    "# x : independent variable\n",
    "\n",
    "# y = a+bx\n",
    "\n",
    "# MULTIPLE LINEAR REG\n",
    "\n",
    "# y = a+b1x1+b2x2+.........bnxn\n",
    "\n",
    "## ERROR RATE/ RESIDUAL :\n",
    "\n",
    "# y = a+bx (ACTUAL)\n",
    "\n",
    "# y^ = a+bx(predicted)\n",
    "\n",
    "# DIFFERENCE BETWEEN ACTUAL - PREDICTED\n",
    "\n",
    "# y-y^ = a+bx-a+bx-c\n",
    "\n",
    "# y_y^ = c\n",
    "\n",
    "## LEAST SQUARE METHOD : BEST FIT LINE : LINE WHERE ERROR BETWEEN ACTUAL & PREDICTED IS VERY LESS. \n",
    "\n",
    "## GODENESS OF FIT MODEL : R SQUARE\n",
    "\n",
    "## R SQUARE : IT IS STATISTICAL MEASURE THAT WILL EXPLAIN HOW CLOSE THE DATA IS TO THE REGRESSION LINE\n",
    "## VERY HIGH R SQUARE MEANS ALL THE INDEPENDENT VARIABLES ARE BETTER EXPLAINING OUR MODEL\n",
    "\n",
    "## ACCURACY SCORE\n",
    "\n",
    "## ABSOLUTE ERROR : TRUE - PREDICTED\n",
    "## MEAN ABSOLUTE ERROR : AVG OF ABS ERROR\n",
    "## ROOT MEAN SQUARE ERROR :\n"
   ]
  },
  {
   "cell_type": "code",
   "execution_count": 52,
   "metadata": {},
   "outputs": [],
   "source": [
    "import numpy as np\n",
    "import pandas as pd\n",
    "import sklearn\n",
    "from sklearn.model_selection import train_test_split\n",
    "from sklearn import metrics"
   ]
  },
  {
   "cell_type": "code",
   "execution_count": 20,
   "metadata": {},
   "outputs": [],
   "source": [
    "from sklearn.linear_model import LinearRegression"
   ]
  },
  {
   "cell_type": "code",
   "execution_count": 33,
   "metadata": {},
   "outputs": [],
   "source": [
    "cars = pd.read_csv(r\"D:\\Works Stuffs\\Misc\\Datasets\\Cars Dataset\\data_cars2.csv\")"
   ]
  },
  {
   "cell_type": "code",
   "execution_count": 27,
   "metadata": {},
   "outputs": [
    {
     "data": {
      "text/html": [
       "<div>\n",
       "<style scoped>\n",
       "    .dataframe tbody tr th:only-of-type {\n",
       "        vertical-align: middle;\n",
       "    }\n",
       "\n",
       "    .dataframe tbody tr th {\n",
       "        vertical-align: top;\n",
       "    }\n",
       "\n",
       "    .dataframe thead th {\n",
       "        text-align: right;\n",
       "    }\n",
       "</style>\n",
       "<table border=\"1\" class=\"dataframe\">\n",
       "  <thead>\n",
       "    <tr style=\"text-align: right;\">\n",
       "      <th></th>\n",
       "      <th>Unnamed: 0</th>\n",
       "      <th>EngineSize</th>\n",
       "      <th>Cylinders</th>\n",
       "      <th>Horsepower</th>\n",
       "      <th>MPG_City</th>\n",
       "      <th>MPG_Highway</th>\n",
       "      <th>Weight</th>\n",
       "      <th>Wheelbase</th>\n",
       "      <th>Length</th>\n",
       "      <th>MSRP_1</th>\n",
       "    </tr>\n",
       "  </thead>\n",
       "  <tbody>\n",
       "    <tr>\n",
       "      <td>0</td>\n",
       "      <td>1</td>\n",
       "      <td>3.2</td>\n",
       "      <td>6.0</td>\n",
       "      <td>290</td>\n",
       "      <td>17</td>\n",
       "      <td>24</td>\n",
       "      <td>3153</td>\n",
       "      <td>100</td>\n",
       "      <td>174</td>\n",
       "      <td>89765</td>\n",
       "    </tr>\n",
       "    <tr>\n",
       "      <td>1</td>\n",
       "      <td>2</td>\n",
       "      <td>3.5</td>\n",
       "      <td>6.0</td>\n",
       "      <td>225</td>\n",
       "      <td>18</td>\n",
       "      <td>24</td>\n",
       "      <td>3893</td>\n",
       "      <td>115</td>\n",
       "      <td>197</td>\n",
       "      <td>46100</td>\n",
       "    </tr>\n",
       "    <tr>\n",
       "      <td>2</td>\n",
       "      <td>3</td>\n",
       "      <td>3.5</td>\n",
       "      <td>6.0</td>\n",
       "      <td>225</td>\n",
       "      <td>18</td>\n",
       "      <td>24</td>\n",
       "      <td>3880</td>\n",
       "      <td>115</td>\n",
       "      <td>197</td>\n",
       "      <td>43755</td>\n",
       "    </tr>\n",
       "    <tr>\n",
       "      <td>3</td>\n",
       "      <td>4</td>\n",
       "      <td>3.5</td>\n",
       "      <td>6.0</td>\n",
       "      <td>265</td>\n",
       "      <td>17</td>\n",
       "      <td>23</td>\n",
       "      <td>4451</td>\n",
       "      <td>106</td>\n",
       "      <td>189</td>\n",
       "      <td>36945</td>\n",
       "    </tr>\n",
       "    <tr>\n",
       "      <td>4</td>\n",
       "      <td>5</td>\n",
       "      <td>3.2</td>\n",
       "      <td>6.0</td>\n",
       "      <td>270</td>\n",
       "      <td>20</td>\n",
       "      <td>28</td>\n",
       "      <td>3575</td>\n",
       "      <td>108</td>\n",
       "      <td>186</td>\n",
       "      <td>33195</td>\n",
       "    </tr>\n",
       "  </tbody>\n",
       "</table>\n",
       "</div>"
      ],
      "text/plain": [
       "   Unnamed: 0  EngineSize  Cylinders  Horsepower  MPG_City  MPG_Highway  \\\n",
       "0           1         3.2        6.0         290        17           24   \n",
       "1           2         3.5        6.0         225        18           24   \n",
       "2           3         3.5        6.0         225        18           24   \n",
       "3           4         3.5        6.0         265        17           23   \n",
       "4           5         3.2        6.0         270        20           28   \n",
       "\n",
       "   Weight  Wheelbase  Length  MSRP_1  \n",
       "0    3153        100     174   89765  \n",
       "1    3893        115     197   46100  \n",
       "2    3880        115     197   43755  \n",
       "3    4451        106     189   36945  \n",
       "4    3575        108     186   33195  "
      ]
     },
     "execution_count": 27,
     "metadata": {},
     "output_type": "execute_result"
    }
   ],
   "source": [
    "cars.head()"
   ]
  },
  {
   "cell_type": "code",
   "execution_count": 28,
   "metadata": {},
   "outputs": [
    {
     "data": {
      "text/plain": [
       "Unnamed: 0     False\n",
       "EngineSize     False\n",
       "Cylinders       True\n",
       "Horsepower     False\n",
       "MPG_City       False\n",
       "MPG_Highway    False\n",
       "Weight         False\n",
       "Wheelbase      False\n",
       "Length         False\n",
       "MSRP_1         False\n",
       "dtype: bool"
      ]
     },
     "execution_count": 28,
     "metadata": {},
     "output_type": "execute_result"
    }
   ],
   "source": [
    "## CHECK THE MISSING VALUE\n",
    "\n",
    "cars = cars.isnull().any()\n",
    "cars"
   ]
  },
  {
   "cell_type": "code",
   "execution_count": 29,
   "metadata": {},
   "outputs": [
    {
     "data": {
      "text/plain": [
       "0"
      ]
     },
     "execution_count": 29,
     "metadata": {},
     "output_type": "execute_result"
    }
   ],
   "source": [
    "car_missing = cars.isnull().sum()\n",
    "car_missing"
   ]
  },
  {
   "cell_type": "code",
   "execution_count": null,
   "metadata": {},
   "outputs": [],
   "source": [
    "# NA, 0, N/A"
   ]
  },
  {
   "cell_type": "code",
   "execution_count": 34,
   "metadata": {},
   "outputs": [],
   "source": [
    "cars_data = cars.dropna()"
   ]
  },
  {
   "cell_type": "code",
   "execution_count": 35,
   "metadata": {},
   "outputs": [],
   "source": [
    "cars_data = cars_data.drop([\"Unnamed: 0\", \"MPG_Highway\"], axis = 1)"
   ]
  },
  {
   "cell_type": "code",
   "execution_count": 36,
   "metadata": {},
   "outputs": [],
   "source": [
    "y = cars_data[[\"MSRP_1\"]]\n",
    "x = cars_data.drop([\"MSRP_1\"], axis = 1)"
   ]
  },
  {
   "cell_type": "code",
   "execution_count": 37,
   "metadata": {},
   "outputs": [],
   "source": [
    "x_train,x_test,y_train,y_test = train_test_split(x,y,test_size = 0.3)"
   ]
  },
  {
   "cell_type": "code",
   "execution_count": 38,
   "metadata": {},
   "outputs": [
    {
     "data": {
      "text/plain": [
       "(298, 7)"
      ]
     },
     "execution_count": 38,
     "metadata": {},
     "output_type": "execute_result"
    }
   ],
   "source": [
    "x_train.shape"
   ]
  },
  {
   "cell_type": "code",
   "execution_count": 39,
   "metadata": {},
   "outputs": [
    {
     "data": {
      "text/plain": [
       "(128, 7)"
      ]
     },
     "execution_count": 39,
     "metadata": {},
     "output_type": "execute_result"
    }
   ],
   "source": [
    "x_test.shape"
   ]
  },
  {
   "cell_type": "code",
   "execution_count": 40,
   "metadata": {},
   "outputs": [
    {
     "data": {
      "text/plain": [
       "(298, 1)"
      ]
     },
     "execution_count": 40,
     "metadata": {},
     "output_type": "execute_result"
    }
   ],
   "source": [
    "y_train.shape"
   ]
  },
  {
   "cell_type": "code",
   "execution_count": 41,
   "metadata": {},
   "outputs": [
    {
     "data": {
      "text/plain": [
       "(128, 1)"
      ]
     },
     "execution_count": 41,
     "metadata": {},
     "output_type": "execute_result"
    }
   ],
   "source": [
    "y_test.shape"
   ]
  },
  {
   "cell_type": "code",
   "execution_count": 44,
   "metadata": {},
   "outputs": [
    {
     "data": {
      "text/plain": [
       "LinearRegression(copy_X=True, fit_intercept=True, n_jobs=None, normalize=False)"
      ]
     },
     "execution_count": 44,
     "metadata": {},
     "output_type": "execute_result"
    }
   ],
   "source": [
    "regressor = LinearRegression()\n",
    "regressor.fit(x_train,y_train)"
   ]
  },
  {
   "cell_type": "code",
   "execution_count": null,
   "metadata": {},
   "outputs": [],
   "source": [
    "# NORMALIZATION & STANDARDIZATION\n",
    "\n",
    "# NORMALIZATION RESCALE THE VALUE INTO RANGE BETWEEN(0,1)\n",
    "\n",
    "# STANDARDIZATION RESCALE THE DATA TO HAVE MEAN OF 0 AND STANDARD DEVIATION OF 1(UNIT VARIANCE)"
   ]
  },
  {
   "cell_type": "code",
   "execution_count": null,
   "metadata": {},
   "outputs": [],
   "source": [
    "regressor_train = regressor.score(x_train,y_train)"
   ]
  },
  {
   "cell_type": "code",
   "execution_count": 45,
   "metadata": {},
   "outputs": [
    {
     "name": "stdout",
     "output_type": "stream",
     "text": [
      "[19702.0037328]\n"
     ]
    }
   ],
   "source": [
    "## INTERCEPT\n",
    "\n",
    "print(regressor.intercept_)"
   ]
  },
  {
   "cell_type": "code",
   "execution_count": 46,
   "metadata": {},
   "outputs": [
    {
     "name": "stdout",
     "output_type": "stream",
     "text": [
      "[[-2891.18655252  2401.51181757   195.81268766   372.40459995\n",
      "      5.41542799  -625.79197997    31.91343811]]\n"
     ]
    }
   ],
   "source": [
    "## COEFFICIENT\n",
    "\n",
    "print(regressor.coef_)"
   ]
  },
  {
   "cell_type": "code",
   "execution_count": 47,
   "metadata": {},
   "outputs": [],
   "source": [
    "y_pred = regressor.predict(x_test)"
   ]
  },
  {
   "cell_type": "code",
   "execution_count": 50,
   "metadata": {},
   "outputs": [
    {
     "data": {
      "text/plain": [
       "0.7618812100499804"
      ]
     },
     "execution_count": 50,
     "metadata": {},
     "output_type": "execute_result"
    }
   ],
   "source": [
    "## R-SQUARE : EXPLAIN VARIANCE BY TOTAL INDEPENDENT VARIABLES\n",
    "\n",
    "regressor_train = regressor.score(x_train,y_train)\n",
    "regressor_train"
   ]
  },
  {
   "cell_type": "code",
   "execution_count": 51,
   "metadata": {},
   "outputs": [
    {
     "data": {
      "text/plain": [
       "0.7305560659448939"
      ]
     },
     "execution_count": 51,
     "metadata": {},
     "output_type": "execute_result"
    }
   ],
   "source": [
    "regressor_test = regressor.score(x_test,y_test)\n",
    "regressor_test"
   ]
  },
  {
   "cell_type": "code",
   "execution_count": 56,
   "metadata": {},
   "outputs": [
    {
     "name": "stdout",
     "output_type": "stream",
     "text": [
      "Mean_Absoute_Error: 6275.298529962707\n",
      "Root_Mean_Suared_Error: 9582.136124086603\n"
     ]
    }
   ],
   "source": [
    "## MEAN ABSOLUTE ERROR\n",
    "\n",
    "print(\"Mean_Absoute_Error:\", metrics.mean_absolute_error(y_test,y_pred))\n",
    "print(\"Root_Mean_Suared_Error:\",np.sqrt(metrics.mean_squared_error(y_test,y_pred)))"
   ]
  },
  {
   "cell_type": "code",
   "execution_count": null,
   "metadata": {},
   "outputs": [],
   "source": [
    "y = a+b1x1+b2x2......bnxn\n",
    "\n",
    "## NEGATIVE COEFFICIENT: DECREASE IN THE UNIT OF DEPENDENT VARIABLE"
   ]
  },
  {
   "cell_type": "code",
   "execution_count": null,
   "metadata": {},
   "outputs": [],
   "source": []
  }
 ],
 "metadata": {
  "kernelspec": {
   "display_name": "Python 3",
   "language": "python",
   "name": "python3"
  },
  "language_info": {
   "codemirror_mode": {
    "name": "ipython",
    "version": 3
   },
   "file_extension": ".py",
   "mimetype": "text/x-python",
   "name": "python",
   "nbconvert_exporter": "python",
   "pygments_lexer": "ipython3",
   "version": "3.7.3"
  }
 },
 "nbformat": 4,
 "nbformat_minor": 2
}
